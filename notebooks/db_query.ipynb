{
 "cells": [
  {
   "cell_type": "code",
   "execution_count": null,
   "metadata": {},
   "outputs": [],
   "source": [
    "from pymongo import MongoClient"
   ]
  },
  {
   "cell_type": "code",
   "execution_count": null,
   "metadata": {},
   "outputs": [],
   "source": [
    "# Create a client instance of MongoClient;\n",
    "# network name is the service name, configured in the server docker-compose file\n",
    "client = MongoClient('mongodb://mongosrv:27017/')\n",
    "\n",
    "# database object\n",
    "db = client.lego\n",
    "\n",
    "# Get the collection object\n",
    "collection = db.test\n",
    "\n",
    "# print all the documents\n",
    "for doc in collection.find():\n",
    "    print(doc)"
   ]
  }
 ],
 "metadata": {
  "kernelspec": {
   "display_name": "Python 3",
   "language": "python",
   "name": "python3"
  },
  "language_info": {
   "codemirror_mode": {
    "name": "ipython",
    "version": 3
   },
   "file_extension": ".py",
   "mimetype": "text/x-python",
   "name": "python",
   "nbconvert_exporter": "python",
   "pygments_lexer": "ipython3",
   "version": "3.6.5"
  }
 },
 "nbformat": 4,
 "nbformat_minor": 2
}
